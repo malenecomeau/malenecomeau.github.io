{
  "nbformat": 4,
  "nbformat_minor": 0,
  "metadata": {
    "colab": {
      "provenance": []
    },
    "kernelspec": {
      "name": "python3",
      "display_name": "Python 3"
    },
    "language_info": {
      "name": "python"
    }
  },
  "cells": [
    {
      "cell_type": "code",
      "execution_count": null,
      "metadata": {
        "id": "yjrWj4tFiCWi"
      },
      "outputs": [],
      "source": []
    },
    {
      "cell_type": "markdown",
      "source": [
        "## Python Basics"
      ],
      "metadata": {
        "id": "ML8cvpFtiXSs"
      }
    },
    {
      "cell_type": "code",
      "source": [],
      "metadata": {
        "id": "86L90BFpiaZT"
      },
      "execution_count": null,
      "outputs": []
    }
  ]
}